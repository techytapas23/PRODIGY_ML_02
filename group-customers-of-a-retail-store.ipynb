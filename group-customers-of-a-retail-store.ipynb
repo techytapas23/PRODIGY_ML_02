{
 "cells": [
  {
   "cell_type": "code",
   "execution_count": 1,
   "id": "da066594",
   "metadata": {
    "_cell_guid": "b1076dfc-b9ad-4769-8c92-a6c4dae69d19",
    "_uuid": "8f2839f25d086af736a60e9eeb907d3b93b6e0e5",
    "execution": {
     "iopub.execute_input": "2024-03-28T13:31:27.131417Z",
     "iopub.status.busy": "2024-03-28T13:31:27.130977Z",
     "iopub.status.idle": "2024-03-28T13:31:28.248375Z",
     "shell.execute_reply": "2024-03-28T13:31:28.246804Z"
    },
    "papermill": {
     "duration": 1.131895,
     "end_time": "2024-03-28T13:31:28.251546",
     "exception": false,
     "start_time": "2024-03-28T13:31:27.119651",
     "status": "completed"
    },
    "tags": []
   },
   "outputs": [
    {
     "name": "stdout",
     "output_type": "stream",
     "text": [
      "/kaggle/input/mall-customer-dataset/Mall_Customers.csv\n"
     ]
    }
   ],
   "source": [
    "# This Python 3 environment comes with many helpful analytics libraries installed\n",
    "# It is defined by the kaggle/python Docker image: https://github.com/kaggle/docker-python\n",
    "# For example, here's several helpful packages to load\n",
    "\n",
    "import numpy as np # linear algebra\n",
    "import pandas as pd # data processing, CSV file I/O (e.g. pd.read_csv)\n",
    "\n",
    "# Input data files are available in the read-only \"../input/\" directory\n",
    "# For example, running this (by clicking run or pressing Shift+Enter) will list all files under the input directory\n",
    "\n",
    "import os\n",
    "for dirname, _, filenames in os.walk('/kaggle/input'):\n",
    "    for filename in filenames:\n",
    "        print(os.path.join(dirname, filename))\n",
    "\n",
    "# You can write up to 20GB to the current directory (/kaggle/working/) that gets preserved as output when you create a version using \"Save & Run All\" \n",
    "# You can also write temporary files to /kaggle/temp/, but they won't be saved outside of the current session"
   ]
  },
  {
   "cell_type": "code",
   "execution_count": 2,
   "id": "66811f20",
   "metadata": {
    "execution": {
     "iopub.execute_input": "2024-03-28T13:31:28.271672Z",
     "iopub.status.busy": "2024-03-28T13:31:28.271052Z",
     "iopub.status.idle": "2024-03-28T13:31:28.302172Z",
     "shell.execute_reply": "2024-03-28T13:31:28.300790Z"
    },
    "papermill": {
     "duration": 0.044503,
     "end_time": "2024-03-28T13:31:28.305136",
     "exception": false,
     "start_time": "2024-03-28T13:31:28.260633",
     "status": "completed"
    },
    "tags": []
   },
   "outputs": [
    {
     "data": {
      "text/html": [
       "<div>\n",
       "<style scoped>\n",
       "    .dataframe tbody tr th:only-of-type {\n",
       "        vertical-align: middle;\n",
       "    }\n",
       "\n",
       "    .dataframe tbody tr th {\n",
       "        vertical-align: top;\n",
       "    }\n",
       "\n",
       "    .dataframe thead th {\n",
       "        text-align: right;\n",
       "    }\n",
       "</style>\n",
       "<table border=\"1\" class=\"dataframe\">\n",
       "  <thead>\n",
       "    <tr style=\"text-align: right;\">\n",
       "      <th></th>\n",
       "      <th>CustomerID</th>\n",
       "      <th>Gender</th>\n",
       "      <th>Age</th>\n",
       "      <th>Annual Income (k$)</th>\n",
       "      <th>Spending Score (1-100)</th>\n",
       "    </tr>\n",
       "  </thead>\n",
       "  <tbody>\n",
       "    <tr>\n",
       "      <th>0</th>\n",
       "      <td>1</td>\n",
       "      <td>Male</td>\n",
       "      <td>19</td>\n",
       "      <td>15</td>\n",
       "      <td>39</td>\n",
       "    </tr>\n",
       "    <tr>\n",
       "      <th>1</th>\n",
       "      <td>2</td>\n",
       "      <td>Male</td>\n",
       "      <td>21</td>\n",
       "      <td>15</td>\n",
       "      <td>81</td>\n",
       "    </tr>\n",
       "    <tr>\n",
       "      <th>2</th>\n",
       "      <td>3</td>\n",
       "      <td>Female</td>\n",
       "      <td>20</td>\n",
       "      <td>16</td>\n",
       "      <td>6</td>\n",
       "    </tr>\n",
       "    <tr>\n",
       "      <th>3</th>\n",
       "      <td>4</td>\n",
       "      <td>Female</td>\n",
       "      <td>23</td>\n",
       "      <td>16</td>\n",
       "      <td>77</td>\n",
       "    </tr>\n",
       "    <tr>\n",
       "      <th>4</th>\n",
       "      <td>5</td>\n",
       "      <td>Female</td>\n",
       "      <td>31</td>\n",
       "      <td>17</td>\n",
       "      <td>40</td>\n",
       "    </tr>\n",
       "  </tbody>\n",
       "</table>\n",
       "</div>"
      ],
      "text/plain": [
       "   CustomerID  Gender  Age  Annual Income (k$)  Spending Score (1-100)\n",
       "0           1    Male   19                  15                      39\n",
       "1           2    Male   21                  15                      81\n",
       "2           3  Female   20                  16                       6\n",
       "3           4  Female   23                  16                      77\n",
       "4           5  Female   31                  17                      40"
      ]
     },
     "execution_count": 2,
     "metadata": {},
     "output_type": "execute_result"
    }
   ],
   "source": [
    "df = pd.read_csv(\"/kaggle/input/mall-customer-dataset/Mall_Customers.csv\")\n",
    "df.head()"
   ]
  },
  {
   "cell_type": "code",
   "execution_count": 3,
   "id": "c25da099",
   "metadata": {
    "execution": {
     "iopub.execute_input": "2024-03-28T13:31:28.326723Z",
     "iopub.status.busy": "2024-03-28T13:31:28.325351Z",
     "iopub.status.idle": "2024-03-28T13:31:28.337862Z",
     "shell.execute_reply": "2024-03-28T13:31:28.336894Z"
    },
    "papermill": {
     "duration": 0.025315,
     "end_time": "2024-03-28T13:31:28.340133",
     "exception": false,
     "start_time": "2024-03-28T13:31:28.314818",
     "status": "completed"
    },
    "tags": []
   },
   "outputs": [
    {
     "data": {
      "text/plain": [
       "CustomerID                0\n",
       "Gender                    0\n",
       "Age                       0\n",
       "Annual Income (k$)        0\n",
       "Spending Score (1-100)    0\n",
       "dtype: int64"
      ]
     },
     "execution_count": 3,
     "metadata": {},
     "output_type": "execute_result"
    }
   ],
   "source": [
    "df.isnull().sum()"
   ]
  },
  {
   "cell_type": "code",
   "execution_count": 4,
   "id": "0b6390f2",
   "metadata": {
    "execution": {
     "iopub.execute_input": "2024-03-28T13:31:28.362248Z",
     "iopub.status.busy": "2024-03-28T13:31:28.361475Z",
     "iopub.status.idle": "2024-03-28T13:31:28.379055Z",
     "shell.execute_reply": "2024-03-28T13:31:28.377764Z"
    },
    "papermill": {
     "duration": 0.032499,
     "end_time": "2024-03-28T13:31:28.382302",
     "exception": false,
     "start_time": "2024-03-28T13:31:28.349803",
     "status": "completed"
    },
    "tags": []
   },
   "outputs": [
    {
     "data": {
      "text/plain": [
       "'duplicated:'"
      ]
     },
     "metadata": {},
     "output_type": "display_data"
    },
    {
     "data": {
      "text/plain": [
       "0"
      ]
     },
     "metadata": {},
     "output_type": "display_data"
    }
   ],
   "source": [
    "display(\"duplicated:\",df.duplicated().sum())"
   ]
  },
  {
   "cell_type": "code",
   "execution_count": 5,
   "id": "f283f193",
   "metadata": {
    "execution": {
     "iopub.execute_input": "2024-03-28T13:31:28.404409Z",
     "iopub.status.busy": "2024-03-28T13:31:28.403859Z",
     "iopub.status.idle": "2024-03-28T13:31:28.417239Z",
     "shell.execute_reply": "2024-03-28T13:31:28.415951Z"
    },
    "papermill": {
     "duration": 0.027768,
     "end_time": "2024-03-28T13:31:28.420081",
     "exception": false,
     "start_time": "2024-03-28T13:31:28.392313",
     "status": "completed"
    },
    "tags": []
   },
   "outputs": [],
   "source": [
    "X= df.iloc[:, [3,4]].values"
   ]
  },
  {
   "cell_type": "code",
   "execution_count": 6,
   "id": "ce47db3c",
   "metadata": {
    "execution": {
     "iopub.execute_input": "2024-03-28T13:31:28.441933Z",
     "iopub.status.busy": "2024-03-28T13:31:28.441310Z",
     "iopub.status.idle": "2024-03-28T13:31:30.494161Z",
     "shell.execute_reply": "2024-03-28T13:31:30.492967Z"
    },
    "papermill": {
     "duration": 2.067171,
     "end_time": "2024-03-28T13:31:30.497271",
     "exception": false,
     "start_time": "2024-03-28T13:31:28.430100",
     "status": "completed"
    },
    "tags": []
   },
   "outputs": [],
   "source": [
    "from sklearn.cluster import KMeans"
   ]
  },
  {
   "cell_type": "code",
   "execution_count": 7,
   "id": "1107c415",
   "metadata": {
    "execution": {
     "iopub.execute_input": "2024-03-28T13:31:30.518306Z",
     "iopub.status.busy": "2024-03-28T13:31:30.517829Z",
     "iopub.status.idle": "2024-03-28T13:31:30.803363Z",
     "shell.execute_reply": "2024-03-28T13:31:30.802333Z"
    },
    "papermill": {
     "duration": 0.299498,
     "end_time": "2024-03-28T13:31:30.806377",
     "exception": false,
     "start_time": "2024-03-28T13:31:30.506879",
     "status": "completed"
    },
    "tags": []
   },
   "outputs": [
    {
     "name": "stderr",
     "output_type": "stream",
     "text": [
      "/opt/conda/lib/python3.10/site-packages/sklearn/cluster/_kmeans.py:870: FutureWarning: The default value of `n_init` will change from 10 to 'auto' in 1.4. Set the value of `n_init` explicitly to suppress the warning\n",
      "  warnings.warn(\n",
      "/opt/conda/lib/python3.10/site-packages/sklearn/cluster/_kmeans.py:870: FutureWarning: The default value of `n_init` will change from 10 to 'auto' in 1.4. Set the value of `n_init` explicitly to suppress the warning\n",
      "  warnings.warn(\n",
      "/opt/conda/lib/python3.10/site-packages/sklearn/cluster/_kmeans.py:870: FutureWarning: The default value of `n_init` will change from 10 to 'auto' in 1.4. Set the value of `n_init` explicitly to suppress the warning\n",
      "  warnings.warn(\n",
      "/opt/conda/lib/python3.10/site-packages/sklearn/cluster/_kmeans.py:870: FutureWarning: The default value of `n_init` will change from 10 to 'auto' in 1.4. Set the value of `n_init` explicitly to suppress the warning\n",
      "  warnings.warn(\n",
      "/opt/conda/lib/python3.10/site-packages/sklearn/cluster/_kmeans.py:870: FutureWarning: The default value of `n_init` will change from 10 to 'auto' in 1.4. Set the value of `n_init` explicitly to suppress the warning\n",
      "  warnings.warn(\n",
      "/opt/conda/lib/python3.10/site-packages/sklearn/cluster/_kmeans.py:870: FutureWarning: The default value of `n_init` will change from 10 to 'auto' in 1.4. Set the value of `n_init` explicitly to suppress the warning\n",
      "  warnings.warn(\n",
      "/opt/conda/lib/python3.10/site-packages/sklearn/cluster/_kmeans.py:870: FutureWarning: The default value of `n_init` will change from 10 to 'auto' in 1.4. Set the value of `n_init` explicitly to suppress the warning\n",
      "  warnings.warn(\n",
      "/opt/conda/lib/python3.10/site-packages/sklearn/cluster/_kmeans.py:870: FutureWarning: The default value of `n_init` will change from 10 to 'auto' in 1.4. Set the value of `n_init` explicitly to suppress the warning\n",
      "  warnings.warn(\n",
      "/opt/conda/lib/python3.10/site-packages/sklearn/cluster/_kmeans.py:870: FutureWarning: The default value of `n_init` will change from 10 to 'auto' in 1.4. Set the value of `n_init` explicitly to suppress the warning\n",
      "  warnings.warn(\n",
      "/opt/conda/lib/python3.10/site-packages/sklearn/cluster/_kmeans.py:870: FutureWarning: The default value of `n_init` will change from 10 to 'auto' in 1.4. Set the value of `n_init` explicitly to suppress the warning\n",
      "  warnings.warn(\n"
     ]
    }
   ],
   "source": [
    "wcss = []\n",
    "\n",
    "for i in range(1,11):\n",
    "    km = KMeans(n_clusters=i)\n",
    "    km.fit_predict(X)\n",
    "    wcss.append(km.inertia_)"
   ]
  },
  {
   "cell_type": "code",
   "execution_count": 8,
   "id": "53f04c7e",
   "metadata": {
    "execution": {
     "iopub.execute_input": "2024-03-28T13:31:30.830130Z",
     "iopub.status.busy": "2024-03-28T13:31:30.829657Z",
     "iopub.status.idle": "2024-03-28T13:31:31.131948Z",
     "shell.execute_reply": "2024-03-28T13:31:31.130688Z"
    },
    "papermill": {
     "duration": 0.316867,
     "end_time": "2024-03-28T13:31:31.135185",
     "exception": false,
     "start_time": "2024-03-28T13:31:30.818318",
     "status": "completed"
    },
    "tags": []
   },
   "outputs": [
    {
     "data": {
      "text/plain": [
       "[<matplotlib.lines.Line2D at 0x7da173d8a890>]"
      ]
     },
     "execution_count": 8,
     "metadata": {},
     "output_type": "execute_result"
    },
    {
     "data": {
      "image/png": "[encoded data removed]",
      "text/plain": [
       "<Figure size 640x480 with 1 Axes>"
      ]
     },
     "metadata": {},
     "output_type": "display_data"
    }
   ],
   "source": [
    "import matplotlib.pyplot as plt\n",
    "plt.plot(range(1,11),wcss)"
   ]
  },
  {
   "cell_type": "code",
   "execution_count": 9,
   "id": "f1d46b1f",
   "metadata": {
    "execution": {
     "iopub.execute_input": "2024-03-28T13:31:31.158980Z",
     "iopub.status.busy": "2024-03-28T13:31:31.158505Z",
     "iopub.status.idle": "2024-03-28T13:31:31.187116Z",
     "shell.execute_reply": "2024-03-28T13:31:31.186118Z"
    },
    "papermill": {
     "duration": 0.043286,
     "end_time": "2024-03-28T13:31:31.189968",
     "exception": false,
     "start_time": "2024-03-28T13:31:31.146682",
     "status": "completed"
    },
    "tags": []
   },
   "outputs": [
    {
     "name": "stderr",
     "output_type": "stream",
     "text": [
      "/opt/conda/lib/python3.10/site-packages/sklearn/cluster/_kmeans.py:870: FutureWarning: The default value of `n_init` will change from 10 to 'auto' in 1.4. Set the value of `n_init` explicitly to suppress the warning\n",
      "  warnings.warn(\n"
     ]
    }
   ],
   "source": [
    "km = KMeans(n_clusters=5)\n",
    "y_means = km.fit_predict(X)"
   ]
  },
  {
   "cell_type": "code",
   "execution_count": 10,
   "id": "05eec2a1",
   "metadata": {
    "execution": {
     "iopub.execute_input": "2024-03-28T13:31:31.214994Z",
     "iopub.status.busy": "2024-03-28T13:31:31.214541Z",
     "iopub.status.idle": "2024-03-28T13:31:31.590280Z",
     "shell.execute_reply": "2024-03-28T13:31:31.589277Z"
    },
    "papermill": {
     "duration": 0.390716,
     "end_time": "2024-03-28T13:31:31.592622",
     "exception": false,
     "start_time": "2024-03-28T13:31:31.201906",
     "status": "completed"
    },
    "tags": []
   },
   "outputs": [
    {
     "data": {
      "image/png": "[encoded data removed]",
      "text/plain": [
       "<Figure size 640x480 with 1 Axes>"
      ]
     },
     "metadata": {},
     "output_type": "display_data"
    }
   ],
   "source": [
    "plt.scatter(X[y_means == 0,0],X[y_means == 0,1],color='blue')\n",
    "plt.scatter(X[y_means == 1,0],X[y_means == 1,1],color='red')\n",
    "plt.scatter(X[y_means == 2,0],X[y_means == 2,1],color='green')\n",
    "plt.scatter(X[y_means == 3,0],X[y_means == 3,1],color='yellow')\n",
    "plt.scatter(X[y_means == 4,0],X[y_means == 4,1],color='black')\n",
    "plt.title('Clusters of customers')\n",
    "plt.xlabel('Annual Income (k$)')\n",
    "plt.ylabel('Spending Score (1-100)')\n",
    "plt.show()"
   ]
  },
  {
   "cell_type": "code",
   "execution_count": 11,
   "id": "11e8ff50",
   "metadata": {
    "execution": {
     "iopub.execute_input": "2024-03-28T13:31:31.618427Z",
     "iopub.status.busy": "2024-03-28T13:31:31.617215Z",
     "iopub.status.idle": "2024-03-28T13:31:31.624284Z",
     "shell.execute_reply": "2024-03-28T13:31:31.622984Z"
    },
    "papermill": {
     "duration": 0.023047,
     "end_time": "2024-03-28T13:31:31.626916",
     "exception": false,
     "start_time": "2024-03-28T13:31:31.603869",
     "status": "completed"
    },
    "tags": []
   },
   "outputs": [],
   "source": [
    "df[\"Target\"]=y_means"
   ]
  },
  {
   "cell_type": "code",
   "execution_count": 12,
   "id": "efed3fad",
   "metadata": {
    "execution": {
     "iopub.execute_input": "2024-03-28T13:31:31.652151Z",
     "iopub.status.busy": "2024-03-28T13:31:31.651235Z",
     "iopub.status.idle": "2024-03-28T13:31:31.663308Z",
     "shell.execute_reply": "2024-03-28T13:31:31.662313Z"
    },
    "papermill": {
     "duration": 0.028037,
     "end_time": "2024-03-28T13:31:31.665991",
     "exception": false,
     "start_time": "2024-03-28T13:31:31.637954",
     "status": "completed"
    },
    "tags": []
   },
   "outputs": [
    {
     "data": {
      "text/html": [
       "<div>\n",
       "<style scoped>\n",
       "    .dataframe tbody tr th:only-of-type {\n",
       "        vertical-align: middle;\n",
       "    }\n",
       "\n",
       "    .dataframe tbody tr th {\n",
       "        vertical-align: top;\n",
       "    }\n",
       "\n",
       "    .dataframe thead th {\n",
       "        text-align: right;\n",
       "    }\n",
       "</style>\n",
       "<table border=\"1\" class=\"dataframe\">\n",
       "  <thead>\n",
       "    <tr style=\"text-align: right;\">\n",
       "      <th></th>\n",
       "      <th>CustomerID</th>\n",
       "      <th>Gender</th>\n",
       "      <th>Age</th>\n",
       "      <th>Annual Income (k$)</th>\n",
       "      <th>Spending Score (1-100)</th>\n",
       "      <th>Target</th>\n",
       "    </tr>\n",
       "  </thead>\n",
       "  <tbody>\n",
       "    <tr>\n",
       "      <th>0</th>\n",
       "      <td>1</td>\n",
       "      <td>Male</td>\n",
       "      <td>19</td>\n",
       "      <td>15</td>\n",
       "      <td>39</td>\n",
       "      <td>4</td>\n",
       "    </tr>\n",
       "    <tr>\n",
       "      <th>1</th>\n",
       "      <td>2</td>\n",
       "      <td>Male</td>\n",
       "      <td>21</td>\n",
       "      <td>15</td>\n",
       "      <td>81</td>\n",
       "      <td>0</td>\n",
       "    </tr>\n",
       "    <tr>\n",
       "      <th>2</th>\n",
       "      <td>3</td>\n",
       "      <td>Female</td>\n",
       "      <td>20</td>\n",
       "      <td>16</td>\n",
       "      <td>6</td>\n",
       "      <td>4</td>\n",
       "    </tr>\n",
       "    <tr>\n",
       "      <th>3</th>\n",
       "      <td>4</td>\n",
       "      <td>Female</td>\n",
       "      <td>23</td>\n",
       "      <td>16</td>\n",
       "      <td>77</td>\n",
       "      <td>0</td>\n",
       "    </tr>\n",
       "    <tr>\n",
       "      <th>4</th>\n",
       "      <td>5</td>\n",
       "      <td>Female</td>\n",
       "      <td>31</td>\n",
       "      <td>17</td>\n",
       "      <td>40</td>\n",
       "      <td>4</td>\n",
       "    </tr>\n",
       "  </tbody>\n",
       "</table>\n",
       "</div>"
      ],
      "text/plain": [
       "   CustomerID  Gender  Age  Annual Income (k$)  Spending Score (1-100)  Target\n",
       "0           1    Male   19                  15                      39       4\n",
       "1           2    Male   21                  15                      81       0\n",
       "2           3  Female   20                  16                       6       4\n",
       "3           4  Female   23                  16                      77       0\n",
       "4           5  Female   31                  17                      40       4"
      ]
     },
     "execution_count": 12,
     "metadata": {},
     "output_type": "execute_result"
    }
   ],
   "source": [
    "Clustered_df = df\n",
    "Clustered_df.head()"
   ]
  },
  {
   "cell_type": "code",
   "execution_count": 13,
   "id": "6318ab0d",
   "metadata": {
    "execution": {
     "iopub.execute_input": "2024-03-28T13:31:31.691137Z",
     "iopub.status.busy": "2024-03-28T13:31:31.690640Z",
     "iopub.status.idle": "2024-03-28T13:31:31.698868Z",
     "shell.execute_reply": "2024-03-28T13:31:31.697525Z"
    },
    "papermill": {
     "duration": 0.024541,
     "end_time": "2024-03-28T13:31:31.701825",
     "exception": false,
     "start_time": "2024-03-28T13:31:31.677284",
     "status": "completed"
    },
    "tags": []
   },
   "outputs": [],
   "source": [
    "X=Clustered_df.iloc[:,1:5]\n",
    "y=Clustered_df.iloc[:,-1]"
   ]
  },
  {
   "cell_type": "code",
   "execution_count": 14,
   "id": "fbb64139",
   "metadata": {
    "execution": {
     "iopub.execute_input": "2024-03-28T13:31:31.727459Z",
     "iopub.status.busy": "2024-03-28T13:31:31.727004Z",
     "iopub.status.idle": "2024-03-28T13:31:31.739565Z",
     "shell.execute_reply": "2024-03-28T13:31:31.738300Z"
    },
    "papermill": {
     "duration": 0.029009,
     "end_time": "2024-03-28T13:31:31.742181",
     "exception": false,
     "start_time": "2024-03-28T13:31:31.713172",
     "status": "completed"
    },
    "tags": []
   },
   "outputs": [
    {
     "data": {
      "text/html": [
       "<div>\n",
       "<style scoped>\n",
       "    .dataframe tbody tr th:only-of-type {\n",
       "        vertical-align: middle;\n",
       "    }\n",
       "\n",
       "    .dataframe tbody tr th {\n",
       "        vertical-align: top;\n",
       "    }\n",
       "\n",
       "    .dataframe thead th {\n",
       "        text-align: right;\n",
       "    }\n",
       "</style>\n",
       "<table border=\"1\" class=\"dataframe\">\n",
       "  <thead>\n",
       "    <tr style=\"text-align: right;\">\n",
       "      <th></th>\n",
       "      <th>Gender</th>\n",
       "      <th>Age</th>\n",
       "      <th>Annual Income (k$)</th>\n",
       "      <th>Spending Score (1-100)</th>\n",
       "    </tr>\n",
       "  </thead>\n",
       "  <tbody>\n",
       "    <tr>\n",
       "      <th>0</th>\n",
       "      <td>Male</td>\n",
       "      <td>19</td>\n",
       "      <td>15</td>\n",
       "      <td>39</td>\n",
       "    </tr>\n",
       "    <tr>\n",
       "      <th>1</th>\n",
       "      <td>Male</td>\n",
       "      <td>21</td>\n",
       "      <td>15</td>\n",
       "      <td>81</td>\n",
       "    </tr>\n",
       "    <tr>\n",
       "      <th>2</th>\n",
       "      <td>Female</td>\n",
       "      <td>20</td>\n",
       "      <td>16</td>\n",
       "      <td>6</td>\n",
       "    </tr>\n",
       "    <tr>\n",
       "      <th>3</th>\n",
       "      <td>Female</td>\n",
       "      <td>23</td>\n",
       "      <td>16</td>\n",
       "      <td>77</td>\n",
       "    </tr>\n",
       "    <tr>\n",
       "      <th>4</th>\n",
       "      <td>Female</td>\n",
       "      <td>31</td>\n",
       "      <td>17</td>\n",
       "      <td>40</td>\n",
       "    </tr>\n",
       "  </tbody>\n",
       "</table>\n",
       "</div>"
      ],
      "text/plain": [
       "   Gender  Age  Annual Income (k$)  Spending Score (1-100)\n",
       "0    Male   19                  15                      39\n",
       "1    Male   21                  15                      81\n",
       "2  Female   20                  16                       6\n",
       "3  Female   23                  16                      77\n",
       "4  Female   31                  17                      40"
      ]
     },
     "execution_count": 14,
     "metadata": {},
     "output_type": "execute_result"
    }
   ],
   "source": [
    "X.head()"
   ]
  },
  {
   "cell_type": "code",
   "execution_count": 15,
   "id": "f54d614b",
   "metadata": {
    "execution": {
     "iopub.execute_input": "2024-03-28T13:31:31.767710Z",
     "iopub.status.busy": "2024-03-28T13:31:31.766952Z",
     "iopub.status.idle": "2024-03-28T13:31:31.775198Z",
     "shell.execute_reply": "2024-03-28T13:31:31.773970Z"
    },
    "papermill": {
     "duration": 0.023967,
     "end_time": "2024-03-28T13:31:31.777721",
     "exception": false,
     "start_time": "2024-03-28T13:31:31.753754",
     "status": "completed"
    },
    "tags": []
   },
   "outputs": [
    {
     "data": {
      "text/plain": [
       "0    4\n",
       "1    0\n",
       "2    4\n",
       "3    0\n",
       "4    4\n",
       "Name: Target, dtype: int32"
      ]
     },
     "execution_count": 15,
     "metadata": {},
     "output_type": "execute_result"
    }
   ],
   "source": [
    "y.head()"
   ]
  },
  {
   "cell_type": "code",
   "execution_count": 16,
   "id": "b3091386",
   "metadata": {
    "execution": {
     "iopub.execute_input": "2024-03-28T13:31:31.804667Z",
     "iopub.status.busy": "2024-03-28T13:31:31.803917Z",
     "iopub.status.idle": "2024-03-28T13:31:31.809379Z",
     "shell.execute_reply": "2024-03-28T13:31:31.808507Z"
    },
    "papermill": {
     "duration": 0.022565,
     "end_time": "2024-03-28T13:31:31.811829",
     "exception": false,
     "start_time": "2024-03-28T13:31:31.789264",
     "status": "completed"
    },
    "tags": []
   },
   "outputs": [],
   "source": [
    "from sklearn.model_selection import train_test_split\n",
    "from sklearn.preprocessing import LabelEncoder, StandardScaler"
   ]
  },
  {
   "cell_type": "code",
   "execution_count": 17,
   "id": "b676b565",
   "metadata": {
    "execution": {
     "iopub.execute_input": "2024-03-28T13:31:31.838495Z",
     "iopub.status.busy": "2024-03-28T13:31:31.837765Z",
     "iopub.status.idle": "2024-03-28T13:31:31.843932Z",
     "shell.execute_reply": "2024-03-28T13:31:31.842976Z"
    },
    "papermill": {
     "duration": 0.022501,
     "end_time": "2024-03-28T13:31:31.846395",
     "exception": false,
     "start_time": "2024-03-28T13:31:31.823894",
     "status": "completed"
    },
    "tags": []
   },
   "outputs": [],
   "source": [
    "le=LabelEncoder()\n",
    "X['Gender'] = le.fit_transform(X['Gender'])"
   ]
  },
  {
   "cell_type": "code",
   "execution_count": 18,
   "id": "f1d03c9a",
   "metadata": {
    "execution": {
     "iopub.execute_input": "2024-03-28T13:31:31.872138Z",
     "iopub.status.busy": "2024-03-28T13:31:31.871390Z",
     "iopub.status.idle": "2024-03-28T13:31:31.878952Z",
     "shell.execute_reply": "2024-03-28T13:31:31.877992Z"
    },
    "papermill": {
     "duration": 0.023463,
     "end_time": "2024-03-28T13:31:31.881522",
     "exception": false,
     "start_time": "2024-03-28T13:31:31.858059",
     "status": "completed"
    },
    "tags": []
   },
   "outputs": [],
   "source": [
    "X_train, X_test, y_train, y_test = train_test_split(X, y, test_size=0.2, random_state=42)"
   ]
  },
  {
   "cell_type": "code",
   "execution_count": 19,
   "id": "bc476284",
   "metadata": {
    "execution": {
     "iopub.execute_input": "2024-03-28T13:31:31.906836Z",
     "iopub.status.busy": "2024-03-28T13:31:31.906357Z",
     "iopub.status.idle": "2024-03-28T13:31:31.917608Z",
     "shell.execute_reply": "2024-03-28T13:31:31.916664Z"
    },
    "papermill": {
     "duration": 0.027391,
     "end_time": "2024-03-28T13:31:31.920474",
     "exception": false,
     "start_time": "2024-03-28T13:31:31.893083",
     "status": "completed"
    },
    "tags": []
   },
   "outputs": [],
   "source": [
    "sc=StandardScaler()\n",
    "X_train=sc.fit_transform(X_train)\n",
    "X_test=sc.transform(X_test)"
   ]
  },
  {
   "cell_type": "code",
   "execution_count": 20,
   "id": "28e200a5",
   "metadata": {
    "execution": {
     "iopub.execute_input": "2024-03-28T13:31:31.947081Z",
     "iopub.status.busy": "2024-03-28T13:31:31.946339Z",
     "iopub.status.idle": "2024-03-28T13:31:32.037927Z",
     "shell.execute_reply": "2024-03-28T13:31:32.036533Z"
    },
    "papermill": {
     "duration": 0.108051,
     "end_time": "2024-03-28T13:31:32.040948",
     "exception": false,
     "start_time": "2024-03-28T13:31:31.932897",
     "status": "completed"
    },
    "tags": []
   },
   "outputs": [],
   "source": [
    "from sklearn.ensemble import GradientBoostingClassifier\n",
    "from sklearn.metrics import accuracy_score"
   ]
  },
  {
   "cell_type": "code",
   "execution_count": 21,
   "id": "799a3141",
   "metadata": {
    "execution": {
     "iopub.execute_input": "2024-03-28T13:31:32.067150Z",
     "iopub.status.busy": "2024-03-28T13:31:32.066702Z",
     "iopub.status.idle": "2024-03-28T13:31:32.072721Z",
     "shell.execute_reply": "2024-03-28T13:31:32.071258Z"
    },
    "papermill": {
     "duration": 0.022451,
     "end_time": "2024-03-28T13:31:32.075381",
     "exception": false,
     "start_time": "2024-03-28T13:31:32.052930",
     "status": "completed"
    },
    "tags": []
   },
   "outputs": [],
   "source": [
    "gbdt = GradientBoostingClassifier(n_estimators=50,random_state=2)"
   ]
  },
  {
   "cell_type": "code",
   "execution_count": 22,
   "id": "4e7594d4",
   "metadata": {
    "execution": {
     "iopub.execute_input": "2024-03-28T13:31:32.103967Z",
     "iopub.status.busy": "2024-03-28T13:31:32.102733Z",
     "iopub.status.idle": "2024-03-28T13:31:32.404697Z",
     "shell.execute_reply": "2024-03-28T13:31:32.403346Z"
    },
    "papermill": {
     "duration": 0.319708,
     "end_time": "2024-03-28T13:31:32.407392",
     "exception": false,
     "start_time": "2024-03-28T13:31:32.087684",
     "status": "completed"
    },
    "tags": []
   },
   "outputs": [
    {
     "data": {
      "text/plain": [
       "0.975"
      ]
     },
     "execution_count": 22,
     "metadata": {},
     "output_type": "execute_result"
    }
   ],
   "source": [
    "gbdt.fit(X_train,y_train)\n",
    "y_pred=gbdt.predict(X_test)\n",
    "accuracy = accuracy_score(y_test, y_pred)\n",
    "accuracy"
   ]
  },
  {
   "cell_type": "code",
   "execution_count": 23,
   "id": "5bcbf9e7",
   "metadata": {
    "execution": {
     "iopub.execute_input": "2024-03-28T13:31:32.435082Z",
     "iopub.status.busy": "2024-03-28T13:31:32.434144Z",
     "iopub.status.idle": "2024-03-28T13:31:32.443762Z",
     "shell.execute_reply": "2024-03-28T13:31:32.442528Z"
    },
    "papermill": {
     "duration": 0.027198,
     "end_time": "2024-03-28T13:31:32.446717",
     "exception": false,
     "start_time": "2024-03-28T13:31:32.419519",
     "status": "completed"
    },
    "tags": []
   },
   "outputs": [
    {
     "data": {
      "text/plain": [
       "array([3, 0, 4, 1, 1, 3, 3, 1, 1, 3, 3, 1, 2, 3, 1, 2, 3, 1, 3, 3, 1, 4,\n",
       "       1, 3, 3, 3, 3, 3, 2, 3, 0, 4, 3, 3, 1, 3, 2, 2, 1, 3], dtype=int32)"
      ]
     },
     "execution_count": 23,
     "metadata": {},
     "output_type": "execute_result"
    }
   ],
   "source": [
    "y_pred=gbdt.predict(X_test)\n",
    "y_pred"
   ]
  },
  {
   "cell_type": "code",
   "execution_count": 24,
   "id": "99bf8a2b",
   "metadata": {
    "execution": {
     "iopub.execute_input": "2024-03-28T13:31:32.474358Z",
     "iopub.status.busy": "2024-03-28T13:31:32.473166Z",
     "iopub.status.idle": "2024-03-28T13:31:32.487817Z",
     "shell.execute_reply": "2024-03-28T13:31:32.486533Z"
    },
    "papermill": {
     "duration": 0.031531,
     "end_time": "2024-03-28T13:31:32.490662",
     "exception": false,
     "start_time": "2024-03-28T13:31:32.459131",
     "status": "completed"
    },
    "tags": []
   },
   "outputs": [
    {
     "data": {
      "text/html": [
       "<div>\n",
       "<style scoped>\n",
       "    .dataframe tbody tr th:only-of-type {\n",
       "        vertical-align: middle;\n",
       "    }\n",
       "\n",
       "    .dataframe tbody tr th {\n",
       "        vertical-align: top;\n",
       "    }\n",
       "\n",
       "    .dataframe thead th {\n",
       "        text-align: right;\n",
       "    }\n",
       "</style>\n",
       "<table border=\"1\" class=\"dataframe\">\n",
       "  <thead>\n",
       "    <tr style=\"text-align: right;\">\n",
       "      <th></th>\n",
       "      <th>Original Value</th>\n",
       "      <th>Predicted Value</th>\n",
       "    </tr>\n",
       "  </thead>\n",
       "  <tbody>\n",
       "    <tr>\n",
       "      <th>95</th>\n",
       "      <td>3</td>\n",
       "      <td>3</td>\n",
       "    </tr>\n",
       "    <tr>\n",
       "      <th>15</th>\n",
       "      <td>0</td>\n",
       "      <td>0</td>\n",
       "    </tr>\n",
       "    <tr>\n",
       "      <th>30</th>\n",
       "      <td>4</td>\n",
       "      <td>4</td>\n",
       "    </tr>\n",
       "    <tr>\n",
       "      <th>158</th>\n",
       "      <td>1</td>\n",
       "      <td>1</td>\n",
       "    </tr>\n",
       "    <tr>\n",
       "      <th>128</th>\n",
       "      <td>1</td>\n",
       "      <td>1</td>\n",
       "    </tr>\n",
       "    <tr>\n",
       "      <th>115</th>\n",
       "      <td>3</td>\n",
       "      <td>3</td>\n",
       "    </tr>\n",
       "    <tr>\n",
       "      <th>69</th>\n",
       "      <td>3</td>\n",
       "      <td>3</td>\n",
       "    </tr>\n",
       "    <tr>\n",
       "      <th>170</th>\n",
       "      <td>1</td>\n",
       "      <td>1</td>\n",
       "    </tr>\n",
       "    <tr>\n",
       "      <th>174</th>\n",
       "      <td>1</td>\n",
       "      <td>1</td>\n",
       "    </tr>\n",
       "    <tr>\n",
       "      <th>45</th>\n",
       "      <td>0</td>\n",
       "      <td>3</td>\n",
       "    </tr>\n",
       "    <tr>\n",
       "      <th>66</th>\n",
       "      <td>3</td>\n",
       "      <td>3</td>\n",
       "    </tr>\n",
       "    <tr>\n",
       "      <th>182</th>\n",
       "      <td>1</td>\n",
       "      <td>1</td>\n",
       "    </tr>\n",
       "    <tr>\n",
       "      <th>165</th>\n",
       "      <td>2</td>\n",
       "      <td>2</td>\n",
       "    </tr>\n",
       "    <tr>\n",
       "      <th>78</th>\n",
       "      <td>3</td>\n",
       "      <td>3</td>\n",
       "    </tr>\n",
       "    <tr>\n",
       "      <th>186</th>\n",
       "      <td>1</td>\n",
       "      <td>1</td>\n",
       "    </tr>\n",
       "    <tr>\n",
       "      <th>177</th>\n",
       "      <td>2</td>\n",
       "      <td>2</td>\n",
       "    </tr>\n",
       "    <tr>\n",
       "      <th>56</th>\n",
       "      <td>3</td>\n",
       "      <td>3</td>\n",
       "    </tr>\n",
       "    <tr>\n",
       "      <th>152</th>\n",
       "      <td>1</td>\n",
       "      <td>1</td>\n",
       "    </tr>\n",
       "    <tr>\n",
       "      <th>82</th>\n",
       "      <td>3</td>\n",
       "      <td>3</td>\n",
       "    </tr>\n",
       "    <tr>\n",
       "      <th>68</th>\n",
       "      <td>3</td>\n",
       "      <td>3</td>\n",
       "    </tr>\n",
       "    <tr>\n",
       "      <th>124</th>\n",
       "      <td>1</td>\n",
       "      <td>1</td>\n",
       "    </tr>\n",
       "    <tr>\n",
       "      <th>16</th>\n",
       "      <td>4</td>\n",
       "      <td>4</td>\n",
       "    </tr>\n",
       "    <tr>\n",
       "      <th>148</th>\n",
       "      <td>1</td>\n",
       "      <td>1</td>\n",
       "    </tr>\n",
       "    <tr>\n",
       "      <th>93</th>\n",
       "      <td>3</td>\n",
       "      <td>3</td>\n",
       "    </tr>\n",
       "    <tr>\n",
       "      <th>65</th>\n",
       "      <td>3</td>\n",
       "      <td>3</td>\n",
       "    </tr>\n",
       "    <tr>\n",
       "      <th>60</th>\n",
       "      <td>3</td>\n",
       "      <td>3</td>\n",
       "    </tr>\n",
       "    <tr>\n",
       "      <th>84</th>\n",
       "      <td>3</td>\n",
       "      <td>3</td>\n",
       "    </tr>\n",
       "    <tr>\n",
       "      <th>67</th>\n",
       "      <td>3</td>\n",
       "      <td>3</td>\n",
       "    </tr>\n",
       "    <tr>\n",
       "      <th>125</th>\n",
       "      <td>2</td>\n",
       "      <td>2</td>\n",
       "    </tr>\n",
       "    <tr>\n",
       "      <th>132</th>\n",
       "      <td>3</td>\n",
       "      <td>3</td>\n",
       "    </tr>\n",
       "    <tr>\n",
       "      <th>9</th>\n",
       "      <td>0</td>\n",
       "      <td>0</td>\n",
       "    </tr>\n",
       "    <tr>\n",
       "      <th>18</th>\n",
       "      <td>4</td>\n",
       "      <td>4</td>\n",
       "    </tr>\n",
       "    <tr>\n",
       "      <th>55</th>\n",
       "      <td>3</td>\n",
       "      <td>3</td>\n",
       "    </tr>\n",
       "    <tr>\n",
       "      <th>75</th>\n",
       "      <td>3</td>\n",
       "      <td>3</td>\n",
       "    </tr>\n",
       "    <tr>\n",
       "      <th>150</th>\n",
       "      <td>1</td>\n",
       "      <td>1</td>\n",
       "    </tr>\n",
       "    <tr>\n",
       "      <th>104</th>\n",
       "      <td>3</td>\n",
       "      <td>3</td>\n",
       "    </tr>\n",
       "    <tr>\n",
       "      <th>135</th>\n",
       "      <td>2</td>\n",
       "      <td>2</td>\n",
       "    </tr>\n",
       "    <tr>\n",
       "      <th>137</th>\n",
       "      <td>2</td>\n",
       "      <td>2</td>\n",
       "    </tr>\n",
       "    <tr>\n",
       "      <th>164</th>\n",
       "      <td>1</td>\n",
       "      <td>1</td>\n",
       "    </tr>\n",
       "    <tr>\n",
       "      <th>76</th>\n",
       "      <td>3</td>\n",
       "      <td>3</td>\n",
       "    </tr>\n",
       "  </tbody>\n",
       "</table>\n",
       "</div>"
      ],
      "text/plain": [
       "     Original Value  Predicted Value\n",
       "95                3                3\n",
       "15                0                0\n",
       "30                4                4\n",
       "158               1                1\n",
       "128               1                1\n",
       "115               3                3\n",
       "69                3                3\n",
       "170               1                1\n",
       "174               1                1\n",
       "45                0                3\n",
       "66                3                3\n",
       "182               1                1\n",
       "165               2                2\n",
       "78                3                3\n",
       "186               1                1\n",
       "177               2                2\n",
       "56                3                3\n",
       "152               1                1\n",
       "82                3                3\n",
       "68                3                3\n",
       "124               1                1\n",
       "16                4                4\n",
       "148               1                1\n",
       "93                3                3\n",
       "65                3                3\n",
       "60                3                3\n",
       "84                3                3\n",
       "67                3                3\n",
       "125               2                2\n",
       "132               3                3\n",
       "9                 0                0\n",
       "18                4                4\n",
       "55                3                3\n",
       "75                3                3\n",
       "150               1                1\n",
       "104               3                3\n",
       "135               2                2\n",
       "137               2                2\n",
       "164               1                1\n",
       "76                3                3"
      ]
     },
     "metadata": {},
     "output_type": "display_data"
    }
   ],
   "source": [
    "prediction = pd.DataFrame({'Original Value': y_test, 'Predicted Value': y_pred})\n",
    "display(prediction)"
   ]
  },
  {
   "cell_type": "code",
   "execution_count": null,
   "id": "b6dec3a8",
   "metadata": {
    "papermill": {
     "duration": 0.012185,
     "end_time": "2024-03-28T13:31:32.515400",
     "exception": false,
     "start_time": "2024-03-28T13:31:32.503215",
     "status": "completed"
    },
    "tags": []
   },
   "outputs": [],
   "source": []
  }
 ],
 "metadata": {
  "kaggle": {
   "accelerator": "none",
   "dataSources": [
    {
     "datasetId": 4684762,
     "sourceId": 7963268,
     "sourceType": "datasetVersion"
    }
   ],
   "dockerImageVersionId": 30673,
   "isGpuEnabled": false,
   "isInternetEnabled": false,
   "language": "python",
   "sourceType": "notebook"
  },
  "kernelspec": {
   "display_name": "Python 3",
   "language": "python",
   "name": "python3"
  },
  "language_info": {
   "codemirror_mode": {
    "name": "ipython",
    "version": 3
   },
   "file_extension": ".py",
   "mimetype": "text/x-python",
   "name": "python",
   "nbconvert_exporter": "python",
   "pygments_lexer": "ipython3",
   "version": "3.10.13"
  },
  "papermill": {
   "default_parameters": {},
   "duration": 9.538536,
   "end_time": "2024-03-28T13:31:33.250641",
   "environment_variables": {},
   "exception": null,
   "input_path": "__notebook__.ipynb",
   "output_path": "__notebook__.ipynb",
   "parameters": {},
   "start_time": "2024-03-28T13:31:23.712105",
   "version": "2.5.0"
  }
 },
 "nbformat": 4,
 "nbformat_minor": 5
}
